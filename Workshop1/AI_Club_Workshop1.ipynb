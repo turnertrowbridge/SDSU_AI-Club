{
  "nbformat": 4,
  "nbformat_minor": 0,
  "metadata": {
    "colab": {
      "provenance": []
    },
    "kernelspec": {
      "name": "python3",
      "display_name": "Python 3"
    },
    "language_info": {
      "name": "python"
    }
  },
  "cells": [
    {
      "cell_type": "code",
      "execution_count": null,
      "metadata": {
        "id": "Ot9wuZ0kE71d"
      },
      "outputs": [],
      "source": [
        "import tensorflow as tf\n",
        "from tensorflow import keras\n",
        "import numpy as np\n",
        "import matplotlib.pyplot as plt"
      ]
    },
    {
      "cell_type": "code",
      "source": [
        "(training_images, training_labels), (test_images, test_labels) = keras.datasets.fashion_mnist.load_data()\n",
        "data_names = [\"t-shirt\", \"pants\", \"pullover\", \"dress\", \"coat\", \"sandal\", \"shirt\", \"sneaker\", \"bag\", \"ankle boot\"]\n",
        "\n",
        "training_images = keras.utils.normalize(training_images, axis = 1)\n",
        "test_images = keras.utils.normalize(test_images, axis = 1)\n"
      ],
      "metadata": {
        "id": "cPaCXJXyFkjr"
      },
      "execution_count": null,
      "outputs": []
    },
    {
      "cell_type": "code",
      "source": [
        "SAMPLE_INDEX = 51\n",
        "print(\"Sample %d in training dataset: \" % SAMPLE_INDEX)\n",
        "plt.imshow(training_images[SAMPLE_INDEX])\n",
        "plt.show()\n",
        "print(\"Sample label: %s\" % data_names[training_labels[SAMPLE_INDEX]])"
      ],
      "metadata": {
        "colab": {
          "base_uri": "https://localhost:8080/",
          "height": 301
        },
        "id": "hjEVz09IGVcB",
        "outputId": "7b46218a-a5d5-40dc-9ba3-2e042652a4b6"
      },
      "execution_count": null,
      "outputs": [
        {
          "output_type": "stream",
          "name": "stdout",
          "text": [
            "Sample 51 in training dataset: \n"
          ]
        },
        {
          "output_type": "display_data",
          "data": {
            "text/plain": [
              "<Figure size 432x288 with 1 Axes>"
            ],
            "image/png": "[encoded data removed]"
          },
          "metadata": {
            "needs_background": "light"
          }
        },
        {
          "output_type": "stream",
          "name": "stdout",
          "text": [
            "Sample label: dress\n"
          ]
        }
      ]
    },
    {
      "cell_type": "code",
      "source": [
        "model = keras.Sequential()\n",
        "\n",
        "model.add(keras.layers.Flatten(input_shape = (28, 28)))\n",
        "model.add(keras.layers.Dense(units = 256, activation = 'relu'))\n",
        "model.add(keras.layers.Dense(units = 128, activation = 'relu'))\n",
        "model.add(keras.layers.Dense(10, activation = 'softmax'))\n",
        "\n",
        "model.compile(optimizer='adam', loss='sparse_categorical_crossentropy', metrics=['accuracy'])\n",
        "\n",
        "model.fit(training_images, training_labels, epochs=5) "
      ],
      "metadata": {
        "colab": {
          "base_uri": "https://localhost:8080/"
        },
        "id": "uQFuZD9dG57N",
        "outputId": "115f5269-fbee-43ae-e5e3-b7bc7dcd1f2d"
      },
      "execution_count": null,
      "outputs": [
        {
          "output_type": "stream",
          "name": "stdout",
          "text": [
            "Epoch 1/5\n",
            "1875/1875 [==============================] - 7s 4ms/step - loss: 0.4691 - accuracy: 0.8260\n",
            "Epoch 2/5\n",
            "1875/1875 [==============================] - 7s 4ms/step - loss: 0.3486 - accuracy: 0.8709\n",
            "Epoch 3/5\n",
            "1875/1875 [==============================] - 7s 4ms/step - loss: 0.3119 - accuracy: 0.8834\n",
            "Epoch 4/5\n",
            "1875/1875 [==============================] - 7s 4ms/step - loss: 0.2865 - accuracy: 0.8929\n",
            "Epoch 5/5\n",
            "1875/1875 [==============================] - 7s 4ms/step - loss: 0.2682 - accuracy: 0.8983\n"
          ]
        },
        {
          "output_type": "execute_result",
          "data": {
            "text/plain": [
              "<keras.callbacks.History at 0x7fe866030dc0>"
            ]
          },
          "metadata": {},
          "execution_count": 22
        }
      ]
    },
    {
      "cell_type": "code",
      "source": [
        "predictions = model.predict(test_images)"
      ],
      "metadata": {
        "id": "onfWkjpIIi_g",
        "colab": {
          "base_uri": "https://localhost:8080/"
        },
        "outputId": "c5c17697-a10a-4fb6-fd86-85745c0b22e2"
      },
      "execution_count": null,
      "outputs": [
        {
          "output_type": "stream",
          "name": "stdout",
          "text": [
            "313/313 [==============================] - 1s 2ms/step\n"
          ]
        }
      ]
    },
    {
      "cell_type": "code",
      "source": [
        "INDEX = 15\n",
        "print(\"Sample %d in testing dataset:\" % INDEX)\n",
        "plt.imshow(test_images[INDEX])\n",
        "plt.show()\n",
        "print(\"Prediction: %s\\nActual: %s\\n\" % (data_names[np.argmax(predictions[INDEX])], data_names[test_labels[INDEX]]))"
      ],
      "metadata": {
        "colab": {
          "base_uri": "https://localhost:8080/",
          "height": 336
        },
        "id": "N2Df7oXZKv8U",
        "outputId": "978ecc86-ff3f-4fe4-a5a0-86a851d43d01"
      },
      "execution_count": null,
      "outputs": [
        {
          "output_type": "stream",
          "name": "stdout",
          "text": [
            "Sample 15 in testing dataset:\n"
          ]
        },
        {
          "output_type": "display_data",
          "data": {
            "text/plain": [
              "<Figure size 432x288 with 1 Axes>"
            ],
            "image/png": "[encoded data removed]"
          },
          "metadata": {
            "needs_background": "light"
          }
        },
        {
          "output_type": "stream",
          "name": "stdout",
          "text": [
            "Prediction: pants\n",
            "Actual: pants\n",
            "\n"
          ]
        }
      ]
    },
    {
      "cell_type": "code",
      "source": [
        "plt.title('Model Predictions')\n",
        "plt.xticks(np.arange(10), data_names, rotation=90)\n",
        "plt.yticks(np.arange(0, 1.1, .1))\n",
        "plt.ylim(0, 1)\n",
        "plot_bar = plt.bar(range(10), predictions[INDEX])\n",
        "plot_bar[np.argmax(predictions[INDEX])].set_color('red')\n",
        "plot_bar[test_labels[INDEX]].set_color('green')"
      ],
      "metadata": {
        "colab": {
          "base_uri": "https://localhost:8080/",
          "height": 324
        },
        "id": "3jzRjYioK5if",
        "outputId": "2055092e-d3d2-417b-9553-12920c048b92"
      },
      "execution_count": null,
      "outputs": [
        {
          "output_type": "display_data",
          "data": {
            "text/plain": [
              "<Figure size 432x288 with 1 Axes>"
            ],
            "image/png": "[encoded data removed]"
          },
          "metadata": {
            "needs_background": "light"
          }
        }
      ]
    }
  ]
}